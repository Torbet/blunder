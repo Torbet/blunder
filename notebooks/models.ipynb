{
 "cells": [
  {
   "cell_type": "code",
   "execution_count": 1,
   "metadata": {},
   "outputs": [],
   "source": [
    "import sys\n",
    "\n",
    "sys.path.append('..')\n",
    "import numpy as np\n",
    "import pandas as pd\n",
    "import torch\n",
    "import time\n",
    "from torch.utils.data import DataLoader\n",
    "from tqdm import tqdm\n",
    "from utils import ProcessedDataset\n",
    "from model import Dense1, Dense3, Dense6, Conv1, Conv3, Conv6, ConvLSTM, Transformer"
   ]
  },
  {
   "cell_type": "code",
   "execution_count": 2,
   "metadata": {},
   "outputs": [],
   "source": [
    "dataset = ProcessedDataset(channels=12, num_moves=40, limit=10000)\n",
    "loader = DataLoader(dataset, batch_size=64, shuffle=True)"
   ]
  },
  {
   "cell_type": "code",
   "execution_count": 3,
   "metadata": {},
   "outputs": [],
   "source": [
    "models = {\n",
    "  'dense1': Dense1,\n",
    "  'dense3': Dense3,\n",
    "  'dense6': Dense6,\n",
    "  'conv1': Conv1,\n",
    "  'conv3': Conv3,\n",
    "  'conv6': Conv6,\n",
    "  'convlstm': ConvLSTM,\n",
    "  'transformer': Transformer,\n",
    "}"
   ]
  },
  {
   "cell_type": "code",
   "execution_count": 4,
   "metadata": {},
   "outputs": [
    {
     "data": {
      "text/html": [
       "<div>\n",
       "<style scoped>\n",
       "    .dataframe tbody tr th:only-of-type {\n",
       "        vertical-align: middle;\n",
       "    }\n",
       "\n",
       "    .dataframe tbody tr th {\n",
       "        vertical-align: top;\n",
       "    }\n",
       "\n",
       "    .dataframe thead th {\n",
       "        text-align: right;\n",
       "    }\n",
       "</style>\n",
       "<table border=\"1\" class=\"dataframe\">\n",
       "  <thead>\n",
       "    <tr style=\"text-align: right;\">\n",
       "      <th></th>\n",
       "      <th>model</th>\n",
       "      <th>channels</th>\n",
       "      <th>params</th>\n",
       "    </tr>\n",
       "  </thead>\n",
       "  <tbody>\n",
       "    <tr>\n",
       "      <th>0</th>\n",
       "      <td>dense1</td>\n",
       "      <td>6</td>\n",
       "      <td>7866884</td>\n",
       "    </tr>\n",
       "    <tr>\n",
       "      <th>1</th>\n",
       "      <td>dense1</td>\n",
       "      <td>12</td>\n",
       "      <td>15731204</td>\n",
       "    </tr>\n",
       "    <tr>\n",
       "      <th>2</th>\n",
       "      <td>dense3</td>\n",
       "      <td>6</td>\n",
       "      <td>8160580</td>\n",
       "    </tr>\n",
       "    <tr>\n",
       "      <th>3</th>\n",
       "      <td>dense3</td>\n",
       "      <td>12</td>\n",
       "      <td>16024900</td>\n",
       "    </tr>\n",
       "    <tr>\n",
       "      <th>4</th>\n",
       "      <td>dense6</td>\n",
       "      <td>6</td>\n",
       "      <td>37050116</td>\n",
       "    </tr>\n",
       "    <tr>\n",
       "      <th>5</th>\n",
       "      <td>dense6</td>\n",
       "      <td>12</td>\n",
       "      <td>68507396</td>\n",
       "    </tr>\n",
       "    <tr>\n",
       "      <th>6</th>\n",
       "      <td>conv1</td>\n",
       "      <td>6</td>\n",
       "      <td>8629828</td>\n",
       "    </tr>\n",
       "    <tr>\n",
       "      <th>7</th>\n",
       "      <td>conv1</td>\n",
       "      <td>12</td>\n",
       "      <td>8647108</td>\n",
       "    </tr>\n",
       "    <tr>\n",
       "      <th>8</th>\n",
       "      <td>conv3</td>\n",
       "      <td>6</td>\n",
       "      <td>8923524</td>\n",
       "    </tr>\n",
       "    <tr>\n",
       "      <th>9</th>\n",
       "      <td>conv3</td>\n",
       "      <td>12</td>\n",
       "      <td>8940804</td>\n",
       "    </tr>\n",
       "    <tr>\n",
       "      <th>10</th>\n",
       "      <td>conv6</td>\n",
       "      <td>6</td>\n",
       "      <td>39385924</td>\n",
       "    </tr>\n",
       "    <tr>\n",
       "      <th>11</th>\n",
       "      <td>conv6</td>\n",
       "      <td>12</td>\n",
       "      <td>39403204</td>\n",
       "    </tr>\n",
       "    <tr>\n",
       "      <th>12</th>\n",
       "      <td>convlstm (evals, times)</td>\n",
       "      <td>6</td>\n",
       "      <td>3528516</td>\n",
       "    </tr>\n",
       "    <tr>\n",
       "      <th>13</th>\n",
       "      <td>convlstm (evals)</td>\n",
       "      <td>6</td>\n",
       "      <td>3526468</td>\n",
       "    </tr>\n",
       "    <tr>\n",
       "      <th>14</th>\n",
       "      <td>convlstm (times)</td>\n",
       "      <td>6</td>\n",
       "      <td>3526468</td>\n",
       "    </tr>\n",
       "    <tr>\n",
       "      <th>15</th>\n",
       "      <td>convlstm</td>\n",
       "      <td>6</td>\n",
       "      <td>3524420</td>\n",
       "    </tr>\n",
       "    <tr>\n",
       "      <th>16</th>\n",
       "      <td>convlstm (evals, times)</td>\n",
       "      <td>12</td>\n",
       "      <td>3531972</td>\n",
       "    </tr>\n",
       "    <tr>\n",
       "      <th>17</th>\n",
       "      <td>convlstm (evals)</td>\n",
       "      <td>12</td>\n",
       "      <td>3529924</td>\n",
       "    </tr>\n",
       "    <tr>\n",
       "      <th>18</th>\n",
       "      <td>convlstm (times)</td>\n",
       "      <td>12</td>\n",
       "      <td>3529924</td>\n",
       "    </tr>\n",
       "    <tr>\n",
       "      <th>19</th>\n",
       "      <td>convlstm</td>\n",
       "      <td>12</td>\n",
       "      <td>3527876</td>\n",
       "    </tr>\n",
       "    <tr>\n",
       "      <th>20</th>\n",
       "      <td>transformer (evals, times)</td>\n",
       "      <td>6</td>\n",
       "      <td>33946212</td>\n",
       "    </tr>\n",
       "    <tr>\n",
       "      <th>21</th>\n",
       "      <td>transformer (evals)</td>\n",
       "      <td>6</td>\n",
       "      <td>19638756</td>\n",
       "    </tr>\n",
       "    <tr>\n",
       "      <th>22</th>\n",
       "      <td>transformer (times)</td>\n",
       "      <td>6</td>\n",
       "      <td>19638756</td>\n",
       "    </tr>\n",
       "    <tr>\n",
       "      <th>23</th>\n",
       "      <td>transformer</td>\n",
       "      <td>6</td>\n",
       "      <td>8477028</td>\n",
       "    </tr>\n",
       "    <tr>\n",
       "      <th>24</th>\n",
       "      <td>transformer (evals, times)</td>\n",
       "      <td>12</td>\n",
       "      <td>33951396</td>\n",
       "    </tr>\n",
       "    <tr>\n",
       "      <th>25</th>\n",
       "      <td>transformer (evals)</td>\n",
       "      <td>12</td>\n",
       "      <td>19643940</td>\n",
       "    </tr>\n",
       "    <tr>\n",
       "      <th>26</th>\n",
       "      <td>transformer (times)</td>\n",
       "      <td>12</td>\n",
       "      <td>19643940</td>\n",
       "    </tr>\n",
       "    <tr>\n",
       "      <th>27</th>\n",
       "      <td>transformer</td>\n",
       "      <td>12</td>\n",
       "      <td>8482212</td>\n",
       "    </tr>\n",
       "  </tbody>\n",
       "</table>\n",
       "</div>"
      ],
      "text/plain": [
       "                         model  channels    params\n",
       "0                       dense1         6   7866884\n",
       "1                       dense1        12  15731204\n",
       "2                       dense3         6   8160580\n",
       "3                       dense3        12  16024900\n",
       "4                       dense6         6  37050116\n",
       "5                       dense6        12  68507396\n",
       "6                        conv1         6   8629828\n",
       "7                        conv1        12   8647108\n",
       "8                        conv3         6   8923524\n",
       "9                        conv3        12   8940804\n",
       "10                       conv6         6  39385924\n",
       "11                       conv6        12  39403204\n",
       "12     convlstm (evals, times)         6   3528516\n",
       "13            convlstm (evals)         6   3526468\n",
       "14            convlstm (times)         6   3526468\n",
       "15                    convlstm         6   3524420\n",
       "16     convlstm (evals, times)        12   3531972\n",
       "17            convlstm (evals)        12   3529924\n",
       "18            convlstm (times)        12   3529924\n",
       "19                    convlstm        12   3527876\n",
       "20  transformer (evals, times)         6  33946212\n",
       "21         transformer (evals)         6  19638756\n",
       "22         transformer (times)         6  19638756\n",
       "23                 transformer         6   8477028\n",
       "24  transformer (evals, times)        12  33951396\n",
       "25         transformer (evals)        12  19643940\n",
       "26         transformer (times)        12  19643940\n",
       "27                 transformer        12   8482212"
      ]
     },
     "execution_count": 4,
     "metadata": {},
     "output_type": "execute_result"
    }
   ],
   "source": [
    "rows = []\n",
    "\n",
    "for name, model in models.items():\n",
    "  if name in ['convlstm', 'transformer']:\n",
    "    for channel in [6, 12]:\n",
    "      for evals in [True, False]:\n",
    "        for times in [True, False]:\n",
    "          suffix = []\n",
    "          if evals:\n",
    "            suffix.append('evals')\n",
    "          if times:\n",
    "            suffix.append('times')\n",
    "          display_name = f\"{name} ({', '.join(suffix)})\" if suffix else name\n",
    "\n",
    "          m = model(channels=channel, evals=evals, times=times)\n",
    "          params = sum(p.numel() for p in m.parameters() if p.requires_grad)\n",
    "          rows.append({'model': display_name, 'channels': channel, 'params': params})\n",
    "  else:\n",
    "    for channel in [6, 12]:\n",
    "      m = model(channels=channel)\n",
    "      params = sum(p.numel() for p in m.parameters() if p.requires_grad)\n",
    "      rows.append({'model': name, 'channels': channel, 'params': params})\n",
    "\n",
    "df = pd.DataFrame(rows)\n",
    "df"
   ]
  },
  {
   "cell_type": "code",
   "execution_count": 5,
   "metadata": {},
   "outputs": [
    {
     "data": {
      "text/html": [
       "<div>\n",
       "<style scoped>\n",
       "    .dataframe tbody tr th:only-of-type {\n",
       "        vertical-align: middle;\n",
       "    }\n",
       "\n",
       "    .dataframe tbody tr th {\n",
       "        vertical-align: top;\n",
       "    }\n",
       "\n",
       "    .dataframe thead th {\n",
       "        text-align: right;\n",
       "    }\n",
       "</style>\n",
       "<table border=\"1\" class=\"dataframe\">\n",
       "  <thead>\n",
       "    <tr style=\"text-align: right;\">\n",
       "      <th></th>\n",
       "      <th>model</th>\n",
       "      <th>params_6</th>\n",
       "      <th>params_12</th>\n",
       "    </tr>\n",
       "  </thead>\n",
       "  <tbody>\n",
       "    <tr>\n",
       "      <th>0</th>\n",
       "      <td>conv1</td>\n",
       "      <td>8629828</td>\n",
       "      <td>8647108</td>\n",
       "    </tr>\n",
       "    <tr>\n",
       "      <th>1</th>\n",
       "      <td>conv3</td>\n",
       "      <td>8923524</td>\n",
       "      <td>8940804</td>\n",
       "    </tr>\n",
       "    <tr>\n",
       "      <th>2</th>\n",
       "      <td>conv6</td>\n",
       "      <td>39385924</td>\n",
       "      <td>39403204</td>\n",
       "    </tr>\n",
       "    <tr>\n",
       "      <th>3</th>\n",
       "      <td>convlstm</td>\n",
       "      <td>3524420</td>\n",
       "      <td>3527876</td>\n",
       "    </tr>\n",
       "    <tr>\n",
       "      <th>4</th>\n",
       "      <td>convlstm (evals)</td>\n",
       "      <td>3526468</td>\n",
       "      <td>3529924</td>\n",
       "    </tr>\n",
       "    <tr>\n",
       "      <th>5</th>\n",
       "      <td>convlstm (evals, times)</td>\n",
       "      <td>3528516</td>\n",
       "      <td>3531972</td>\n",
       "    </tr>\n",
       "    <tr>\n",
       "      <th>6</th>\n",
       "      <td>convlstm (times)</td>\n",
       "      <td>3526468</td>\n",
       "      <td>3529924</td>\n",
       "    </tr>\n",
       "    <tr>\n",
       "      <th>7</th>\n",
       "      <td>dense1</td>\n",
       "      <td>7866884</td>\n",
       "      <td>15731204</td>\n",
       "    </tr>\n",
       "    <tr>\n",
       "      <th>8</th>\n",
       "      <td>dense3</td>\n",
       "      <td>8160580</td>\n",
       "      <td>16024900</td>\n",
       "    </tr>\n",
       "    <tr>\n",
       "      <th>9</th>\n",
       "      <td>dense6</td>\n",
       "      <td>37050116</td>\n",
       "      <td>68507396</td>\n",
       "    </tr>\n",
       "    <tr>\n",
       "      <th>10</th>\n",
       "      <td>transformer</td>\n",
       "      <td>8477028</td>\n",
       "      <td>8482212</td>\n",
       "    </tr>\n",
       "    <tr>\n",
       "      <th>11</th>\n",
       "      <td>transformer (evals)</td>\n",
       "      <td>19638756</td>\n",
       "      <td>19643940</td>\n",
       "    </tr>\n",
       "    <tr>\n",
       "      <th>12</th>\n",
       "      <td>transformer (evals, times)</td>\n",
       "      <td>33946212</td>\n",
       "      <td>33951396</td>\n",
       "    </tr>\n",
       "    <tr>\n",
       "      <th>13</th>\n",
       "      <td>transformer (times)</td>\n",
       "      <td>19638756</td>\n",
       "      <td>19643940</td>\n",
       "    </tr>\n",
       "  </tbody>\n",
       "</table>\n",
       "</div>"
      ],
      "text/plain": [
       "                         model  params_6  params_12\n",
       "0                        conv1   8629828    8647108\n",
       "1                        conv3   8923524    8940804\n",
       "2                        conv6  39385924   39403204\n",
       "3                     convlstm   3524420    3527876\n",
       "4             convlstm (evals)   3526468    3529924\n",
       "5      convlstm (evals, times)   3528516    3531972\n",
       "6             convlstm (times)   3526468    3529924\n",
       "7                       dense1   7866884   15731204\n",
       "8                       dense3   8160580   16024900\n",
       "9                       dense6  37050116   68507396\n",
       "10                 transformer   8477028    8482212\n",
       "11         transformer (evals)  19638756   19643940\n",
       "12  transformer (evals, times)  33946212   33951396\n",
       "13         transformer (times)  19638756   19643940"
      ]
     },
     "execution_count": 5,
     "metadata": {},
     "output_type": "execute_result"
    }
   ],
   "source": [
    "df_pivot = df.pivot(index='model', columns='channels', values='params').reset_index()\n",
    "df_pivot.columns.name = None  # remove pandas' pivot naming\n",
    "df_pivot = df_pivot.rename(columns={6: 'params_6', 12: 'params_12'})\n",
    "df_pivot"
   ]
  },
  {
   "cell_type": "code",
   "execution_count": 10,
   "metadata": {},
   "outputs": [],
   "source": [
    "df_pivot.to_csv('model_params.csv', index=False)"
   ]
  },
  {
   "cell_type": "code",
   "execution_count": 8,
   "metadata": {},
   "outputs": [
    {
     "name": "stdout",
     "output_type": "stream",
     "text": [
      "dense1\n"
     ]
    },
    {
     "name": "stderr",
     "output_type": "stream",
     "text": [
      "100%|██████████| 625/625 [00:05<00:00, 109.48it/s]\n"
     ]
    },
    {
     "name": "stdout",
     "output_type": "stream",
     "text": [
      "dense3\n"
     ]
    },
    {
     "name": "stderr",
     "output_type": "stream",
     "text": [
      "100%|██████████| 625/625 [00:05<00:00, 105.93it/s]\n"
     ]
    },
    {
     "name": "stdout",
     "output_type": "stream",
     "text": [
      "dense6\n"
     ]
    },
    {
     "name": "stderr",
     "output_type": "stream",
     "text": [
      "100%|██████████| 625/625 [00:14<00:00, 41.93it/s]\n"
     ]
    },
    {
     "name": "stdout",
     "output_type": "stream",
     "text": [
      "conv1\n"
     ]
    },
    {
     "name": "stderr",
     "output_type": "stream",
     "text": [
      "100%|██████████| 625/625 [00:09<00:00, 63.01it/s]\n"
     ]
    },
    {
     "name": "stdout",
     "output_type": "stream",
     "text": [
      "conv3\n"
     ]
    },
    {
     "name": "stderr",
     "output_type": "stream",
     "text": [
      "100%|██████████| 625/625 [00:09<00:00, 62.69it/s]\n"
     ]
    },
    {
     "name": "stdout",
     "output_type": "stream",
     "text": [
      "conv6\n"
     ]
    },
    {
     "name": "stderr",
     "output_type": "stream",
     "text": [
      "100%|██████████| 625/625 [00:15<00:00, 41.33it/s]\n"
     ]
    },
    {
     "name": "stdout",
     "output_type": "stream",
     "text": [
      "convlstm (evals, times)\n"
     ]
    },
    {
     "name": "stderr",
     "output_type": "stream",
     "text": [
      "100%|██████████| 625/625 [00:41<00:00, 15.04it/s]\n"
     ]
    },
    {
     "name": "stdout",
     "output_type": "stream",
     "text": [
      "convlstm (evals)\n"
     ]
    },
    {
     "name": "stderr",
     "output_type": "stream",
     "text": [
      "100%|██████████| 625/625 [00:41<00:00, 15.17it/s]\n"
     ]
    },
    {
     "name": "stdout",
     "output_type": "stream",
     "text": [
      "convlstm (times)\n"
     ]
    },
    {
     "name": "stderr",
     "output_type": "stream",
     "text": [
      "100%|██████████| 625/625 [00:40<00:00, 15.46it/s]\n"
     ]
    },
    {
     "name": "stdout",
     "output_type": "stream",
     "text": [
      "convlstm\n"
     ]
    },
    {
     "name": "stderr",
     "output_type": "stream",
     "text": [
      "100%|██████████| 625/625 [00:39<00:00, 15.69it/s]\n"
     ]
    },
    {
     "name": "stdout",
     "output_type": "stream",
     "text": [
      "transformer (evals, times)\n"
     ]
    },
    {
     "name": "stderr",
     "output_type": "stream",
     "text": [
      "100%|██████████| 625/625 [03:05<00:00,  3.37it/s]\n"
     ]
    },
    {
     "name": "stdout",
     "output_type": "stream",
     "text": [
      "transformer (evals)\n"
     ]
    },
    {
     "name": "stderr",
     "output_type": "stream",
     "text": [
      "100%|██████████| 625/625 [02:05<00:00,  4.98it/s]\n"
     ]
    },
    {
     "name": "stdout",
     "output_type": "stream",
     "text": [
      "transformer (times)\n"
     ]
    },
    {
     "name": "stderr",
     "output_type": "stream",
     "text": [
      "100%|██████████| 625/625 [02:02<00:00,  5.11it/s]\n"
     ]
    },
    {
     "name": "stdout",
     "output_type": "stream",
     "text": [
      "transformer\n"
     ]
    },
    {
     "name": "stderr",
     "output_type": "stream",
     "text": [
      "100%|██████████| 625/625 [01:16<00:00,  8.15it/s]\n"
     ]
    },
    {
     "data": {
      "text/html": [
       "<div>\n",
       "<style scoped>\n",
       "    .dataframe tbody tr th:only-of-type {\n",
       "        vertical-align: middle;\n",
       "    }\n",
       "\n",
       "    .dataframe tbody tr th {\n",
       "        vertical-align: top;\n",
       "    }\n",
       "\n",
       "    .dataframe thead th {\n",
       "        text-align: right;\n",
       "    }\n",
       "</style>\n",
       "<table border=\"1\" class=\"dataframe\">\n",
       "  <thead>\n",
       "    <tr style=\"text-align: right;\">\n",
       "      <th></th>\n",
       "      <th>model</th>\n",
       "      <th>time</th>\n",
       "      <th>its</th>\n",
       "    </tr>\n",
       "  </thead>\n",
       "  <tbody>\n",
       "    <tr>\n",
       "      <th>0</th>\n",
       "      <td>dense1</td>\n",
       "      <td>5.711648</td>\n",
       "      <td>7003.233000</td>\n",
       "    </tr>\n",
       "    <tr>\n",
       "      <th>1</th>\n",
       "      <td>dense3</td>\n",
       "      <td>5.902328</td>\n",
       "      <td>6776.986415</td>\n",
       "    </tr>\n",
       "    <tr>\n",
       "      <th>2</th>\n",
       "      <td>dense6</td>\n",
       "      <td>14.908188</td>\n",
       "      <td>2683.089258</td>\n",
       "    </tr>\n",
       "    <tr>\n",
       "      <th>3</th>\n",
       "      <td>conv1</td>\n",
       "      <td>9.921389</td>\n",
       "      <td>4031.693504</td>\n",
       "    </tr>\n",
       "    <tr>\n",
       "      <th>4</th>\n",
       "      <td>conv3</td>\n",
       "      <td>9.972103</td>\n",
       "      <td>4011.190065</td>\n",
       "    </tr>\n",
       "    <tr>\n",
       "      <th>5</th>\n",
       "      <td>conv6</td>\n",
       "      <td>15.124359</td>\n",
       "      <td>2644.740244</td>\n",
       "    </tr>\n",
       "    <tr>\n",
       "      <th>6</th>\n",
       "      <td>convlstm (evals, times)</td>\n",
       "      <td>41.566270</td>\n",
       "      <td>962.318735</td>\n",
       "    </tr>\n",
       "    <tr>\n",
       "      <th>7</th>\n",
       "      <td>convlstm (evals)</td>\n",
       "      <td>41.214917</td>\n",
       "      <td>970.522386</td>\n",
       "    </tr>\n",
       "    <tr>\n",
       "      <th>8</th>\n",
       "      <td>convlstm (times)</td>\n",
       "      <td>40.438831</td>\n",
       "      <td>989.148286</td>\n",
       "    </tr>\n",
       "    <tr>\n",
       "      <th>9</th>\n",
       "      <td>convlstm</td>\n",
       "      <td>39.841914</td>\n",
       "      <td>1003.967821</td>\n",
       "    </tr>\n",
       "    <tr>\n",
       "      <th>10</th>\n",
       "      <td>transformer (evals, times)</td>\n",
       "      <td>185.627581</td>\n",
       "      <td>215.485219</td>\n",
       "    </tr>\n",
       "    <tr>\n",
       "      <th>11</th>\n",
       "      <td>transformer (evals)</td>\n",
       "      <td>125.486005</td>\n",
       "      <td>318.760645</td>\n",
       "    </tr>\n",
       "    <tr>\n",
       "      <th>12</th>\n",
       "      <td>transformer (times)</td>\n",
       "      <td>122.366287</td>\n",
       "      <td>326.887422</td>\n",
       "    </tr>\n",
       "    <tr>\n",
       "      <th>13</th>\n",
       "      <td>transformer</td>\n",
       "      <td>76.676912</td>\n",
       "      <td>521.669420</td>\n",
       "    </tr>\n",
       "  </tbody>\n",
       "</table>\n",
       "</div>"
      ],
      "text/plain": [
       "                         model        time          its\n",
       "0                       dense1    5.711648  7003.233000\n",
       "1                       dense3    5.902328  6776.986415\n",
       "2                       dense6   14.908188  2683.089258\n",
       "3                        conv1    9.921389  4031.693504\n",
       "4                        conv3    9.972103  4011.190065\n",
       "5                        conv6   15.124359  2644.740244\n",
       "6      convlstm (evals, times)   41.566270   962.318735\n",
       "7             convlstm (evals)   41.214917   970.522386\n",
       "8             convlstm (times)   40.438831   989.148286\n",
       "9                     convlstm   39.841914  1003.967821\n",
       "10  transformer (evals, times)  185.627581   215.485219\n",
       "11         transformer (evals)  125.486005   318.760645\n",
       "12         transformer (times)  122.366287   326.887422\n",
       "13                 transformer   76.676912   521.669420"
      ]
     },
     "execution_count": 8,
     "metadata": {},
     "output_type": "execute_result"
    }
   ],
   "source": [
    "# test inference speed of models, for transformer/convlstm test both with evals and times, only 12 channels for now, loader has moves, evals, times and labels\n",
    "rows = []\n",
    "\n",
    "for name, model in models.items():\n",
    "  if name in ['convlstm', 'transformer']:\n",
    "    for evals in [True, False]:\n",
    "      for times in [True, False]:\n",
    "        suffix = []\n",
    "        if evals:\n",
    "          suffix.append('evals')\n",
    "        if times:\n",
    "          suffix.append('times')\n",
    "        display_name = f\"{name} ({', '.join(suffix)})\" if suffix else name\n",
    "        print(display_name)\n",
    "\n",
    "        if name == 'transformer':\n",
    "          m = model(channels=12, evals=evals, times=times, num_moves=40)\n",
    "        else:\n",
    "          m = model(channels=12, evals=evals, times=times)\n",
    "        m.eval()\n",
    "        start = time.time()\n",
    "        for moves, e, t, labels in tqdm(loader):\n",
    "          m(moves, e, t)\n",
    "        end = time.time()\n",
    "        elapsed = end - start\n",
    "        its_per_sec = len(loader.dataset) / elapsed\n",
    "        rows.append({'model': display_name, 'time': elapsed, 'its': its_per_sec})\n",
    "  else:\n",
    "    print(name)\n",
    "    m = model(channels=12)\n",
    "    m.eval()\n",
    "    start = time.time()\n",
    "    for moves, evals, times, labels in tqdm(loader):\n",
    "      m(moves)\n",
    "    end = time.time()\n",
    "    elapsed = end - start\n",
    "    its_per_sec = len(loader.dataset) / elapsed\n",
    "    rows.append({'model': name, 'time': elapsed, 'its': its_per_sec})\n",
    "\n",
    "df = pd.DataFrame(rows)\n",
    "df"
   ]
  },
  {
   "cell_type": "code",
   "execution_count": 12,
   "metadata": {},
   "outputs": [],
   "source": [
    "# divide time by number of iterations to get time per iteration\n",
    "df['time_per_it'] = df['time'] / df['its']\n",
    "df['time_per_batch'] = df['time'] / len(loader.dataset)\n",
    "df.to_csv('model_times.csv', index=False)"
   ]
  }
 ],
 "metadata": {
  "kernelspec": {
   "display_name": "Python 3",
   "language": "python",
   "name": "python3"
  },
  "language_info": {
   "codemirror_mode": {
    "name": "ipython",
    "version": 3
   },
   "file_extension": ".py",
   "mimetype": "text/x-python",
   "name": "python",
   "nbconvert_exporter": "python",
   "pygments_lexer": "ipython3",
   "version": "3.12.7"
  }
 },
 "nbformat": 4,
 "nbformat_minor": 2
}
