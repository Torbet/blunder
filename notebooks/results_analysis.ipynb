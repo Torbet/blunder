{
 "cells": [
  {
   "cell_type": "code",
   "execution_count": 2,
   "metadata": {},
   "outputs": [],
   "source": [
    "import sys\n",
    "\n",
    "sys.path.append('..')"
   ]
  },
  {
   "cell_type": "code",
   "execution_count": 1,
   "metadata": {},
   "outputs": [
    {
     "name": "stdout",
     "output_type": "stream",
     "text": [
      "                           accuracy precision    recall        f1       auc    dataset       lr      wd channels\n",
      "ConvLSTM(times)                 0.6  0.585518       0.6  0.466854  0.496375  processed    0.001  0.0001       12\n",
      "Transformer(times)         0.595455  0.358904  0.595455  0.447863  0.503795  processed  0.00005  0.0001       12\n",
      "ConvLSTM(evals, times)     0.577273  0.356075  0.577273  0.440462  0.417678  processed   0.0005  0.0001       12\n",
      "Transformer(evals, times)  0.577273   0.50544  0.577273   0.47385  0.484971  processed    0.001     0.0       12\n",
      "Transformer(evals)         0.572727  0.496899  0.572727  0.486242  0.506774  processed    0.001  0.0001       12\n",
      "ConvLSTM(evals)            0.572727  0.394844  0.572727  0.445468  0.430138  processed    0.001     0.0        6\n",
      "ConvLSTM                   0.563636  0.474845  0.563636  0.487656  0.536457  processed   0.0005  0.0001       12\n",
      "Transformer                0.540909  0.444381  0.540909  0.473507   0.49621  processed   0.0001     0.0       12\n"
     ]
    }
   ],
   "source": [
    "import os\n",
    "import glob\n",
    "import pandas as pd\n",
    "import matplotlib.pyplot as plt\n",
    "\n",
    "# no line wrap\n",
    "pd.set_option('display.expand_frame_repr', False)\n",
    "\n",
    "data = 'human'\n",
    "channels = '*'\n",
    "limit = 10000\n",
    "batch_size = 64\n",
    "lrs = [1e-3, 5e-4, 1e-4]\n",
    "weight_decays = [0, 1e-4]\n",
    "epochs = 20\n",
    "\n",
    "# Define the directory and file pattern\n",
    "# name = f'{model_name}_{args.data}_{args.channels}_{args.limit}_{args.num_moves}_{args.engine_prob}_{args.batch_size}_{args.lr}_{args.weight_decay}_{args.epochs}.csv'\n",
    "# example = ConvLSTM_synthetic_12_10000_60_0.5_64_0.001_0.0001_20.csv\n",
    "# pattern = os.path.join('../results', '*_processed_6_10000_40_*_64_*_*.csv')\n",
    "pattern = os.path.join('../results', f'*_{data}_{channels}*.csv')\n",
    "files = glob.glob(pattern)\n",
    "\n",
    "results = {}\n",
    "\n",
    "\n",
    "for file in files:\n",
    "  data = file.split('/')[-1].split('_')\n",
    "  model = data[0]\n",
    "  lr = float(data[-3])\n",
    "  weight_decay = float(data[-2])\n",
    "  channels = int(data[2])\n",
    "  df = pd.read_csv(file)\n",
    "  df = df[df['type'] == 'test']\n",
    "  row = df[df['accuracy'] == df['accuracy'].max()].iloc[0].to_dict()\n",
    "  del row['epoch']\n",
    "  del row['loss']\n",
    "  del row['type']\n",
    "  row['lr'] = lr\n",
    "  row['wd'] = weight_decay\n",
    "  row['channels'] = int(channels)\n",
    "  if model not in results:\n",
    "    results[model] = row\n",
    "  else:\n",
    "    if row['accuracy'] > results[model]['accuracy']:\n",
    "      results[model] = row\n",
    "\n",
    "df = pd.DataFrame(results).T\n",
    "df = df.sort_values('accuracy', ascending=False)\n",
    "print(df)"
   ]
  }
 ],
 "metadata": {
  "kernelspec": {
   "display_name": "Python 3",
   "language": "python",
   "name": "python3"
  },
  "language_info": {
   "codemirror_mode": {
    "name": "ipython",
    "version": 3
   },
   "file_extension": ".py",
   "mimetype": "text/x-python",
   "name": "python",
   "nbconvert_exporter": "python",
   "pygments_lexer": "ipython3",
   "version": "3.12.7"
  }
 },
 "nbformat": 4,
 "nbformat_minor": 2
}
