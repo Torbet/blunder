{
 "cells": [
  {
   "cell_type": "code",
   "execution_count": 2,
   "metadata": {},
   "outputs": [],
   "source": [
    "import sys\n",
    "\n",
    "sys.path.append('..')"
   ]
  },
  {
   "cell_type": "code",
   "execution_count": 10,
   "metadata": {},
   "outputs": [
    {
     "name": "stdout",
     "output_type": "stream",
     "text": [
      "                           accuracy  precision    recall        f1       auc       lr      wd  channels\n",
      "Transformer                0.509091   0.498529  0.509091  0.503648  0.555413  0.00100  0.0001      12.0\n",
      "ConvLSTM(evals, times)     0.290909   0.400930  0.290909  0.334016  0.392499  0.00010  0.0001      12.0\n",
      "ConvLSTM(evals)            0.290909   0.457690  0.290909  0.344895  0.413747  0.00005  0.0000      12.0\n",
      "ConvLSTM                   0.272727   0.498363  0.272727  0.301212  0.488144  0.00010  0.0000      12.0\n",
      "Transformer(evals)         0.272727   0.355080  0.272727  0.294294  0.457511  0.00100  0.0000      12.0\n",
      "Transformer(evals, times)  0.254545   0.518831  0.254545  0.268943  0.434567  0.00100  0.0001      12.0\n",
      "Transformer(times)         0.218182   0.468398  0.218182  0.214073  0.443276  0.00005  0.0000      12.0\n",
      "ConvLSTM(times)            0.218182   0.301042  0.218182  0.220911  0.398997  0.00005  0.0001      12.0\n"
     ]
    }
   ],
   "source": [
    "import os\n",
    "import glob\n",
    "import pandas as pd\n",
    "import matplotlib.pyplot as plt\n",
    "\n",
    "# no line wrap\n",
    "pd.set_option('display.expand_frame_repr', False)\n",
    "\n",
    "data = 'human'\n",
    "channels = '*'\n",
    "limit = 10000\n",
    "batch_size = 64\n",
    "lrs = [1e-3, 5e-4, 1e-4]\n",
    "weight_decays = [0, 1e-4]\n",
    "epochs = 20\n",
    "\n",
    "# Define the directory and file pattern\n",
    "# name = f'{model_name}_{args.data}_{args.channels}_{args.limit}_{args.num_moves}_{args.engine_prob}_{args.batch_size}_{args.lr}_{args.weight_decay}_{args.epochs}.csv'\n",
    "# example = ConvLSTM_synthetic_12_10000_60_0.5_64_0.001_0.0001_20.csv\n",
    "# pattern = os.path.join('../results', '*_processed_6_10000_40_*_64_*_*.csv')\n",
    "pattern = os.path.join('../results', f'*_{data}_{channels}*.csv')\n",
    "files = glob.glob(pattern)\n",
    "\n",
    "results = {}\n",
    "\n",
    "\n",
    "for file in files:\n",
    "  data = file.split('/')[-1].split('_')\n",
    "  model = data[0]\n",
    "  lr = float(data[-3])\n",
    "  weight_decay = float(data[-2])\n",
    "  channels = int(data[2])\n",
    "  df = pd.read_csv(file)\n",
    "  df = df[df['type'] == 'test']\n",
    "  row = df[df['accuracy'] == df['accuracy'].max()].iloc[0].to_dict()\n",
    "  del row['epoch']\n",
    "  del row['loss']\n",
    "  del row['type']\n",
    "  row['lr'] = lr\n",
    "  row['wd'] = weight_decay\n",
    "  row['channels'] = int(channels)\n",
    "  if model not in results:\n",
    "    results[model] = row\n",
    "  else:\n",
    "    if row['accuracy'] > results[model]['accuracy']:\n",
    "      results[model] = row\n",
    "\n",
    "df = pd.DataFrame(results).T\n",
    "df = df.sort_values('accuracy', ascending=False)\n",
    "print(df)"
   ]
  }
 ],
 "metadata": {
  "kernelspec": {
   "display_name": "Python 3",
   "language": "python",
   "name": "python3"
  },
  "language_info": {
   "codemirror_mode": {
    "name": "ipython",
    "version": 3
   },
   "file_extension": ".py",
   "mimetype": "text/x-python",
   "name": "python",
   "nbconvert_exporter": "python",
   "pygments_lexer": "ipython3",
   "version": "3.12.7"
  }
 },
 "nbformat": 4,
 "nbformat_minor": 2
}
