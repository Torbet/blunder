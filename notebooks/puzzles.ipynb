{
 "cells": [
  {
   "cell_type": "code",
   "execution_count": 9,
   "metadata": {},
   "outputs": [],
   "source": [
    "import sys\n",
    "\n",
    "sys.path.append('..')\n",
    "import numpy as np\n",
    "import chess\n",
    "from stockfish import Stockfish\n",
    "from lczero.backends import Backend, Weights, GameState"
   ]
  },
  {
   "cell_type": "code",
   "execution_count": 10,
   "metadata": {},
   "outputs": [
    {
     "name": "stderr",
     "output_type": "stream",
     "text": [
      "Creating backend [eigen]...\n",
      "Using Eigen version 3.4.0\n",
      "Eigen max batch size is 256.\n"
     ]
    }
   ],
   "source": [
    "stockfish = Stockfish()\n",
    "maia = Backend(Weights('../data/maia/1600.pb.gz'))"
   ]
  },
  {
   "cell_type": "code",
   "execution_count": 11,
   "metadata": {},
   "outputs": [],
   "source": [
    "def stockfish_probs(fen):\n",
    "  b = chess.Board(fen)\n",
    "  evals = []\n",
    "  for m in b.legal_moves:\n",
    "    b.push(m)\n",
    "    stockfish.set_fen_position(b.fen())\n",
    "    evaluation = stockfish.get_evaluation()\n",
    "    if evaluation['type'] == 'cp':\n",
    "      evals.append(evaluation['value'] / 100)\n",
    "    else:\n",
    "      evals.append(1 / ((2 * evaluation['value']) + 1) * 1000)\n",
    "    b.pop()\n",
    "\n",
    "  evals = np.array(evals)\n",
    "  exp = np.exp(evals - np.max(evals))\n",
    "  probs = exp / np.sum(exp)\n",
    "  legal_moves = [str(m) for m in b.legal_moves]\n",
    "  return sorted(list(zip(legal_moves, probs)), key=lambda x: x[1], reverse=True)\n",
    "\n",
    "\n",
    "def maia_probs(fen):\n",
    "  state = GameState(fen)\n",
    "  output = maia.evaluate(state.as_input(maia))[0]\n",
    "  return sorted(list(zip(state.moves(), output.p_softmax(*state.policy_indices()))), key=lambda x: x[1], reverse=True)"
   ]
  },
  {
   "cell_type": "code",
   "execution_count": 12,
   "metadata": {},
   "outputs": [
    {
     "name": "stdout",
     "output_type": "stream",
     "text": [
      "Stockfish\n",
      "0 1Bb3BN/R2Pk2r/1Q5B/4q2R/2bN4/4Q1BK/1p6/1bq1R1rb w - - 0 1 Qa3#\n",
      "1-0\n",
      "Maia\n",
      "0 1Bb3BN/R2Pk2r/1Q5B/4q2R/2bN4/4Q1BK/1p6/1bq1R1rb w - - 0 1 Qxe5+\n",
      "1 1Bb3BN/R2Pk2r/1Q5B/4Q2R/2bN4/6BK/1p6/1bq1R1rb b - - 0 1 Be6+\n",
      "2 1Bb3BN/R2Pk2r/1Q2b2B/4Q2R/3N4/6BK/1p6/1bq1R1rb w - - 1 2 Nf5+\n",
      "3 1Bb3BN/R2Pk2r/1Q2b2B/4QN1R/8/6BK/1p6/1bq1R1rb b - - 2 2 Bxf5+\n",
      "4 1Bb3BN/R2Pk2r/1Q2b2B/4Qb1R/8/6BK/1p6/2q1R1rb w - - 0 3 Kh4\n"
     ]
    }
   ],
   "source": [
    "fen = '1Bb3BN/R2Pk2r/1Q5B/4q2R/2bN4/4Q1BK/1p6/1bq1R1rb w - - 0 1'\n",
    "\n",
    "# stockfish\n",
    "print('Stockfish')\n",
    "board = chess.Board(fen)\n",
    "for i in range(5):\n",
    "  probs = stockfish_probs(board.fen())\n",
    "  move = probs[0][0]\n",
    "  print(i, board.fen(), board.san(chess.Move.from_uci(move)))\n",
    "  board.push(chess.Move.from_uci(move))\n",
    "  # print(board, end='\\n\\n')\n",
    "  if board.is_game_over():\n",
    "    print(board.result())\n",
    "    break\n",
    "\n",
    "# maia\n",
    "print('Maia')\n",
    "board = chess.Board(fen)\n",
    "for i in range(5):\n",
    "  probs = maia_probs(board.fen())\n",
    "  move = probs[0][0]\n",
    "  # print algebraic notation eg: Nf3\n",
    "  print(i, board.fen(), board.san(chess.Move.from_uci(move)))\n",
    "  board.push(chess.Move.from_uci(move))\n",
    "  # print(board, end='\\n\\n')\n",
    "  if board.is_game_over():\n",
    "    print(board.result())\n",
    "    break"
   ]
  }
 ],
 "metadata": {
  "kernelspec": {
   "display_name": "Python 3",
   "language": "python",
   "name": "python3"
  },
  "language_info": {
   "codemirror_mode": {
    "name": "ipython",
    "version": 3
   },
   "file_extension": ".py",
   "mimetype": "text/x-python",
   "name": "python",
   "nbconvert_exporter": "python",
   "pygments_lexer": "ipython3",
   "version": "3.12.7"
  }
 },
 "nbformat": 4,
 "nbformat_minor": 2
}
