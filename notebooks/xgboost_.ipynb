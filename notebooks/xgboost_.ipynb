{
 "cells": [
  {
   "cell_type": "code",
   "execution_count": 1,
   "metadata": {},
   "outputs": [],
   "source": [
    "import sys\n",
    "\n",
    "sys.path.append('..')\n",
    "import xgboost as xgb\n",
    "from sklearn.metrics import accuracy_score\n",
    "from utils import SyntheticDataset, ProcessedDataset\n",
    "from torch.utils.data import random_split"
   ]
  },
  {
   "cell_type": "code",
   "execution_count": 2,
   "metadata": {},
   "outputs": [
    {
     "name": "stdout",
     "output_type": "stream",
     "text": [
      "Accuracy: 0.91735\n"
     ]
    }
   ],
   "source": [
    "dataset = ProcessedDataset(10000, 40, 6)\n",
    "train, test = random_split(dataset, [8000 * 4, 2000 * 4])\n",
    "\n",
    "model = xgb.XGBClassifier()\n",
    "train_moves, test_moves = train.dataset.moves, test.dataset.moves\n",
    "train_moves = train_moves.reshape(train_moves.shape[0], -1)\n",
    "test_moves = test_moves.reshape(test_moves.shape[0], -1)\n",
    "train_labels, test_labels = train.dataset.game_labels, test.dataset.game_labels\n",
    "\n",
    "model.fit(train_moves, train_labels)\n",
    "\n",
    "predictions = model.predict(test_moves)\n",
    "accuracy = accuracy_score(test_labels, predictions)\n",
    "print(f'Accuracy: {accuracy}')"
   ]
  },
  {
   "cell_type": "code",
   "execution_count": 3,
   "metadata": {},
   "outputs": [
    {
     "name": "stdout",
     "output_type": "stream",
     "text": [
      "Accuracy: 0.91735\n"
     ]
    }
   ],
   "source": [
    "dataset = ProcessedDataset(10000, 40, 12)\n",
    "train, test = random_split(dataset, [8000 * 4, 2000 * 4])\n",
    "\n",
    "model = xgb.XGBClassifier()\n",
    "train_moves, test_moves = train.dataset.moves, test.dataset.moves\n",
    "train_moves = train_moves.reshape(train_moves.shape[0], -1)\n",
    "test_moves = test_moves.reshape(test_moves.shape[0], -1)\n",
    "train_labels, test_labels = train.dataset.game_labels, test.dataset.game_labels\n",
    "\n",
    "model.fit(train_moves, train_labels)\n",
    "\n",
    "predictions = model.predict(test_moves)\n",
    "accuracy = accuracy_score(test_labels, predictions)\n",
    "print(f'Accuracy: {accuracy}')"
   ]
  },
  {
   "cell_type": "code",
   "execution_count": 4,
   "metadata": {},
   "outputs": [
    {
     "name": "stdout",
     "output_type": "stream",
     "text": [
      "Accuracy: 0.80445\n"
     ]
    }
   ],
   "source": [
    "dataset = SyntheticDataset(10000, 40, 0.3)\n",
    "train, test = random_split(dataset, [8000 * 4, 2000 * 4])\n",
    "\n",
    "model = xgb.XGBClassifier()\n",
    "train_moves, test_moves = train.dataset.moves, test.dataset.moves\n",
    "train_moves = train_moves.reshape(train_moves.shape[0], -1)\n",
    "test_moves = test_moves.reshape(test_moves.shape[0], -1)\n",
    "train_labels, test_labels = train.dataset.game_labels, test.dataset.game_labels\n",
    "\n",
    "model.fit(train_moves, train_labels)\n",
    "\n",
    "predictions = model.predict(test_moves)\n",
    "accuracy = accuracy_score(test_labels, predictions)\n",
    "print(f'Accuracy: {accuracy}')"
   ]
  },
  {
   "cell_type": "code",
   "execution_count": 2,
   "metadata": {},
   "outputs": [
    {
     "name": "stdout",
     "output_type": "stream",
     "text": [
      "Accuracy: 0.848025\n"
     ]
    }
   ],
   "source": [
    "dataset = SyntheticDataset(10000, 40, 0.5)\n",
    "train, test = random_split(dataset, [8000 * 4, 2000 * 4])\n",
    "\n",
    "model = xgb.XGBClassifier()\n",
    "train_moves, test_moves = train.dataset.moves, test.dataset.moves\n",
    "train_moves = train_moves.reshape(train_moves.shape[0], -1)\n",
    "test_moves = test_moves.reshape(test_moves.shape[0], -1)\n",
    "train_labels, test_labels = train.dataset.game_labels, test.dataset.game_labels\n",
    "\n",
    "model.fit(train_moves, train_labels)\n",
    "\n",
    "predictions = model.predict(test_moves)\n",
    "accuracy = accuracy_score(test_labels, predictions)\n",
    "print(f'Accuracy: {accuracy}')"
   ]
  }
 ],
 "metadata": {
  "kernelspec": {
   "display_name": "Python 3",
   "language": "python",
   "name": "python3"
  },
  "language_info": {
   "codemirror_mode": {
    "name": "ipython",
    "version": 3
   },
   "file_extension": ".py",
   "mimetype": "text/x-python",
   "name": "python",
   "nbconvert_exporter": "python",
   "pygments_lexer": "ipython3",
   "version": "3.12.7"
  }
 },
 "nbformat": 4,
 "nbformat_minor": 2
}
