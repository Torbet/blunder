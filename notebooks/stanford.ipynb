{
 "cells": [
  {
   "cell_type": "code",
   "execution_count": 1,
   "metadata": {},
   "outputs": [],
   "source": [
    "import sys\n",
    "\n",
    "sys.path.append('..')\n",
    "import torch\n",
    "import torch.nn as nn\n",
    "import torch.nn.functional as F\n",
    "import torch.optim as optim\n",
    "from torch.utils.data import DataLoader\n",
    "from utils import ProcessedDataset, split_data\n",
    "from tqdm import trange\n",
    "\n",
    "torch.manual_seed(0)\n",
    "\n",
    "limit = 10000\n",
    "num_moves = 40\n",
    "learning_rate = 1e-3\n",
    "batch_size = 64\n",
    "epochs = 20"
   ]
  },
  {
   "cell_type": "code",
   "execution_count": 2,
   "metadata": {},
   "outputs": [],
   "source": [
    "class Dense(nn.Module):\n",
    "  def __init__(self, input_dim: int, hidden: list[int]):\n",
    "    super().__init__()\n",
    "    layers = []\n",
    "    for h in hidden:\n",
    "      layers.append(nn.Linear(input_dim, h))\n",
    "      layers.append(nn.ReLU())\n",
    "      input_dim = h\n",
    "    layers.append(nn.Linear(input_dim, 4))\n",
    "    self.layers = nn.Sequential(*layers)\n",
    "\n",
    "  def forward(self, x: torch.Tensor) -> torch.Tensor:\n",
    "    x = x.permute(0, 2, 1, 3, 4)\n",
    "    x = x.reshape(x.size(0), -1)\n",
    "    return self.layers(x)\n",
    "\n",
    "\n",
    "class Conv(nn.Module):\n",
    "  def __init__(self):\n",
    "    super().__init__()\n",
    "    self.conv1 = nn.Conv3d(6, 64, kernel_size=(5, 3, 3), stride=(2, 1, 1))\n",
    "    self.conv2 = nn.Conv3d(64, 128, kernel_size=(3, 3, 3), stride=(2, 1, 1))\n",
    "\n",
    "  def forward(self, x: torch.Tensor) -> torch.Tensor:\n",
    "    x = x.permute(0, 2, 1, 3, 4)\n",
    "    x = F.relu(self.conv1(x))\n",
    "    return F.relu(self.conv2(x))"
   ]
  },
  {
   "cell_type": "code",
   "execution_count": 3,
   "metadata": {},
   "outputs": [],
   "source": [
    "class Dense1(nn.Module):\n",
    "  def __init__(self):\n",
    "    super().__init__()\n",
    "    self.dense = Dense(15360, [512])\n",
    "\n",
    "  def forward(self, x: torch.Tensor) -> torch.Tensor:\n",
    "    return self.dense(x)\n",
    "\n",
    "\n",
    "class Dense3(nn.Module):\n",
    "  def __init__(self):\n",
    "    super().__init__()\n",
    "    self.dense = Dense(15360, [512, 512, 64])\n",
    "\n",
    "  def forward(self, x: torch.Tensor) -> torch.Tensor:\n",
    "    return self.dense(x)\n",
    "\n",
    "\n",
    "class Dense6(nn.Module):\n",
    "  def __init__(self):\n",
    "    super().__init__()\n",
    "    self.dense = Dense(15360, [2048, 2048, 512, 512, 64])\n",
    "\n",
    "  def forward(self, x: torch.Tensor) -> torch.Tensor:\n",
    "    return self.dense(x)\n",
    "\n",
    "\n",
    "class Conv1(nn.Module):\n",
    "  def __init__(self):\n",
    "    super().__init__()\n",
    "    self.conv = Conv()\n",
    "    self.dense = Dense(16384, [512])\n",
    "\n",
    "  def forward(self, x: torch.Tensor) -> torch.Tensor:\n",
    "    x = self.conv(x)\n",
    "    return self.dense(x)\n",
    "\n",
    "\n",
    "class Conv3(nn.Module):\n",
    "  def __init__(self):\n",
    "    super().__init__()\n",
    "    self.conv = Conv()\n",
    "    self.dense = Dense(16384, [512, 512, 64])\n",
    "\n",
    "  def forward(self, x: torch.Tensor) -> torch.Tensor:\n",
    "    x = self.conv(x)\n",
    "    return self.dense(x)\n",
    "\n",
    "\n",
    "class Conv6(nn.Module):\n",
    "  def __init__(self):\n",
    "    super().__init__()\n",
    "    self.conv = Conv()\n",
    "    self.dense = Dense(16384, [2048, 2048, 512, 512, 64])\n",
    "\n",
    "  def forward(self, x: torch.Tensor) -> torch.Tensor:\n",
    "    x = self.conv(x)\n",
    "    return self.dense(x)"
   ]
  },
  {
   "cell_type": "code",
   "execution_count": 4,
   "metadata": {},
   "outputs": [],
   "source": [
    "def train(model: nn.Module, loader: DataLoader, optimizer: optim.Optimizer) -> float:\n",
    "  model.train()\n",
    "  losses = 0\n",
    "  for moves, evals, times, game_labels in loader:\n",
    "    optimizer.zero_grad()\n",
    "    output = model(moves)\n",
    "    loss = F.cross_entropy(output, game_labels)\n",
    "    loss.backward()\n",
    "    optimizer.step()\n",
    "    losses += loss.item()\n",
    "  return losses / len(loader)\n",
    "\n",
    "\n",
    "def evaluate(model: nn.Module, loader: DataLoader) -> float:\n",
    "  model.eval()\n",
    "  total, correct = 0, 0\n",
    "  with torch.no_grad():\n",
    "    for moves, evals, times, game_labels in loader:\n",
    "      output = model(moves)\n",
    "      correct += (output.argmax(dim=1) == game_labels).sum().item()\n",
    "      total += len(game_labels)\n",
    "  return correct / total"
   ]
  },
  {
   "cell_type": "code",
   "execution_count": 5,
   "metadata": {},
   "outputs": [],
   "source": [
    "device = torch.device('cuda' if torch.cuda.is_available() else 'cpu')\n",
    "dataset = ProcessedDataset(limit, num_moves, 6, device)\n",
    "train_loader, val_loader, test_loader = split_data(dataset, batch_size)"
   ]
  },
  {
   "cell_type": "code",
   "execution_count": 6,
   "metadata": {},
   "outputs": [
    {
     "name": "stdout",
     "output_type": "stream",
     "text": [
      "Dense1\n"
     ]
    },
    {
     "name": "stderr",
     "output_type": "stream",
     "text": [
      "100%|██████████| 20/20 [01:35<00:00,  4.75s/it]\n"
     ]
    },
    {
     "name": "stdout",
     "output_type": "stream",
     "text": [
      "Test accuracy: 0.7987\n",
      "\n",
      "Dense3\n"
     ]
    },
    {
     "name": "stderr",
     "output_type": "stream",
     "text": [
      "100%|██████████| 20/20 [01:44<00:00,  5.21s/it]\n"
     ]
    },
    {
     "name": "stdout",
     "output_type": "stream",
     "text": [
      "Test accuracy: 0.7953\n",
      "\n",
      "Dense6\n"
     ]
    },
    {
     "name": "stderr",
     "output_type": "stream",
     "text": [
      "100%|██████████| 20/20 [02:29<00:00,  7.48s/it]\n"
     ]
    },
    {
     "name": "stdout",
     "output_type": "stream",
     "text": [
      "Test accuracy: 0.8027\n",
      "\n",
      "Conv1\n"
     ]
    },
    {
     "name": "stderr",
     "output_type": "stream",
     "text": [
      "100%|██████████| 20/20 [02:08<00:00,  6.42s/it]\n"
     ]
    },
    {
     "name": "stdout",
     "output_type": "stream",
     "text": [
      "Test accuracy: 0.7865\n",
      "\n",
      "Conv3\n"
     ]
    },
    {
     "name": "stderr",
     "output_type": "stream",
     "text": [
      "100%|██████████| 20/20 [02:08<00:00,  6.44s/it]\n"
     ]
    },
    {
     "name": "stdout",
     "output_type": "stream",
     "text": [
      "Test accuracy: 0.7845\n",
      "\n",
      "Conv6\n"
     ]
    },
    {
     "name": "stderr",
     "output_type": "stream",
     "text": [
      "100%|██████████| 20/20 [03:05<00:00,  9.29s/it]\n"
     ]
    },
    {
     "name": "stdout",
     "output_type": "stream",
     "text": [
      "Test accuracy: 0.7412\n",
      "\n"
     ]
    }
   ],
   "source": [
    "results = {}\n",
    "\n",
    "for model in [Dense1(), Dense3(), Dense6(), Conv1(), Conv3(), Conv6()]:\n",
    "  name = model.__class__.__name__\n",
    "  print(name)\n",
    "\n",
    "  model = model.to(device)\n",
    "  optimizer = optim.Adam(model.parameters(), lr=learning_rate)\n",
    "\n",
    "  losses, accuracies = [], []\n",
    "  for epoch in trange(epochs):\n",
    "    loss = train(model, train_loader, optimizer)\n",
    "    accuracy = evaluate(model, val_loader)\n",
    "    losses.append(loss)\n",
    "    accuracies.append(accuracy)\n",
    "\n",
    "  results[name] = (losses, accuracies)\n",
    "  accuracy = evaluate(model, test_loader)\n",
    "  print(f'Test accuracy: {accuracy:.4f}\\n')"
   ]
  }
 ],
 "metadata": {
  "kernelspec": {
   "display_name": "Python 3",
   "language": "python",
   "name": "python3"
  },
  "language_info": {
   "codemirror_mode": {
    "name": "ipython",
    "version": 3
   },
   "file_extension": ".py",
   "mimetype": "text/x-python",
   "name": "python",
   "nbconvert_exporter": "python",
   "pygments_lexer": "ipython3",
   "version": "3.12.7"
  }
 },
 "nbformat": 4,
 "nbformat_minor": 2
}
